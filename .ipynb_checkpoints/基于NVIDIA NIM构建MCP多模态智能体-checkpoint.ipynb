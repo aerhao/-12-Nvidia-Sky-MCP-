{
 "cells": [
  {
   "cell_type": "markdown",
   "id": "e30e7dd6-829b-4dd3-92a9-3928a8efdac3",
   "metadata": {},
   "source": [
    "# 基于NVIDIA NIM构建MCP多模态智能体"
   ]
  },
  {
   "cell_type": "code",
   "execution_count": 1,
   "id": "69095ead-7876-4573-8f37-92a3a14876de",
   "metadata": {},
   "outputs": [],
   "source": [
    "import os\n",
    "import asyncio\n",
    "from dotenv import load_dotenv\n",
    "from mcp import StdioServerParameters\n",
    "from mcp_llm_bridge.config import BridgeConfig, LLMConfig\n",
    "from mcp_llm_bridge.bridge import BridgeManager\n",
    "import colorlog\n",
    "import logging"
   ]
  },
  {
   "cell_type": "markdown",
   "id": "90238e56-8ee3-454a-84c6-79bf4a0a31f6",
   "metadata": {},
   "source": [
    "在下面的代码中需要将您收到的NIM API key更新为自己的Key，并修改您想选用的模型"
   ]
  },
  {
   "cell_type": "code",
   "execution_count": 16,
   "id": "8559dd90-e23e-44a0-9295-f34d8883f251",
   "metadata": {},
   "outputs": [
    {
     "name": "stdin",
     "output_type": "stream",
     "text": [
      "\n",
      "Enter your prompt (or 'quit' to exit):  北京五月12号天气\n"
     ]
    },
    {
     "name": "stdout",
     "output_type": "stream",
     "text": [
      "\n",
      "Response: <think>\n",
      "</think>\n",
      "\n",
      "On May 12th in Beijing, the weather will be mostly sunny with some clouds. The day will start with light fog in the southeastern areas, which may affect morning commutes. Temperatures will range from a low of 17°C to a high of 28°C. The air quality is expected to be good, with an AQI below 60. Wind speeds will remain low, generally below 3 on the Beaufort scale. While the day will be pleasant, there's a chance of thunderstorms developing overnight. The UV index will be high, so sun protection is advised for outdoor activities. Overall, it will be a comfortable spring day suitable for outdoor pursuits, though residents should be prepared for potential rain in the evening.\n"
     ]
    }
   ],
   "source": [
    "async def main():\n",
    "    # Load environment variables\n",
    "    load_dotenv()\n",
    "    user_input = input(\"\\nEnter your prompt (or 'quit' to exit): \")\n",
    "    # Configure bridge\n",
    "    config = BridgeConfig(\n",
    "        mcp_server_params=StdioServerParameters(\n",
    "            command=\"python\",\n",
    "            args=[\"web_search.py\", user_input],\n",
    "            env=None\n",
    "        ),\n",
    "        llm_config=LLMConfig(\n",
    "            api_key=\"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\",  # 此处请更新为您自己的api_key\n",
    "            model=\"nvidia/llama-3.1-nemotron-ultra-253b-v1\",  #选择您希望使用的模型\n",
    "            base_url=\"https://integrate.api.nvidia.com/v1\"  \n",
    "        ),\n",
    "        system_prompt=\"You are a helpful assistant that can use tools to help answer questions.\"\n",
    "    )\n",
    "    async with BridgeManager(config) as bridge:\n",
    "        try: \n",
    "            response = await bridge.process_message(user_input)\n",
    "            print(f\"\\nResponse: {response}\")\n",
    "        except Exception as e:\n",
    "            logger.error(f\"\\nError occurred: {e}\")\n",
    "\n",
    "await main()"
   ]
  },
  {
   "cell_type": "code",
   "execution_count": null,
   "id": "520261bd-2165-40d8-9089-27752e9ec675",
   "metadata": {},
   "outputs": [],
   "source": []
  }
 ],
 "metadata": {
  "kernelspec": {
   "display_name": "Python 3 (ipykernel)",
   "language": "python",
   "name": "python3"
  },
  "language_info": {
   "codemirror_mode": {
    "name": "ipython",
    "version": 3
   },
   "file_extension": ".py",
   "mimetype": "text/x-python",
   "name": "python",
   "nbconvert_exporter": "python",
   "pygments_lexer": "ipython3",
   "version": "3.12.9"
  }
 },
 "nbformat": 4,
 "nbformat_minor": 5
}
